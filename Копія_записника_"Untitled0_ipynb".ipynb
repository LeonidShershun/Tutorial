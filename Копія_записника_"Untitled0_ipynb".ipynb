{
  "nbformat": 4,
  "nbformat_minor": 0,
  "metadata": {
    "colab": {
      "provenance": [],
      "authorship_tag": "ABX9TyM/ihZMZ5UhowWj2By+qN9F",
      "include_colab_link": true
    },
    "kernelspec": {
      "name": "python3",
      "display_name": "Python 3"
    },
    "language_info": {
      "name": "python"
    }
  },
  "cells": [
    {
      "cell_type": "markdown",
      "metadata": {
        "id": "view-in-github",
        "colab_type": "text"
      },
      "source": [
        "<a href=\"https://colab.research.google.com/github/LeonidShershun/Tutorial/blob/main/%D0%9A%D0%BE%D0%BF%D1%96%D1%8F_%D0%B7%D0%B0%D0%BF%D0%B8%D1%81%D0%BD%D0%B8%D0%BA%D0%B0_%22Untitled0_ipynb%22.ipynb\" target=\"_parent\"><img src=\"https://colab.research.google.com/assets/colab-badge.svg\" alt=\"Open In Colab\"/></a>"
      ]
    },
    {
      "cell_type": "code",
      "execution_count": null,
      "metadata": {
        "colab": {
          "base_uri": "https://localhost:8080/"
        },
        "id": "631XGHvpf6nZ",
        "outputId": "149bc4f7-8a3d-4b0e-ef05-32302d93216f"
      },
      "outputs": [
        {
          "output_type": "stream",
          "name": "stdout",
          "text": [
            "Hello World!!!\n"
          ]
        }
      ],
      "source": [
        "a = 'Hello World!!!'\n",
        "print(a)"
      ]
    },
    {
      "cell_type": "code",
      "source": [
        "num = 10\n",
        "b= a + ' ' + 'Hi Python'\n",
        "print(b)"
      ],
      "metadata": {
        "colab": {
          "base_uri": "https://localhost:8080/"
        },
        "id": "DLMtP2isgvl4",
        "outputId": "ac9644b1-814d-49ac-b7aa-018761a49881"
      },
      "execution_count": null,
      "outputs": [
        {
          "output_type": "stream",
          "name": "stdout",
          "text": [
            "Hello World!!! Hi Python\n"
          ]
        }
      ]
    },
    {
      "cell_type": "code",
      "source": [
        "print( 10 == 5)"
      ],
      "metadata": {
        "colab": {
          "base_uri": "https://localhost:8080/"
        },
        "id": "InoY9g_yhbDp",
        "outputId": "f5822546-e64d-46c7-ac87-b3e561f050a8"
      },
      "execution_count": null,
      "outputs": [
        {
          "output_type": "stream",
          "name": "stdout",
          "text": [
            "False\n"
          ]
        }
      ]
    },
    {
      "cell_type": "code",
      "source": [
        "letters = ['Hello','world', '!']# список\n",
        "print(letters[1])\n",
        "print(len(letters))"
      ],
      "metadata": {
        "colab": {
          "base_uri": "https://localhost:8080/"
        },
        "id": "tpWzzlGDhvFJ",
        "outputId": "2ef171a0-e51a-4d58-be92-1674e37c94ef"
      },
      "execution_count": null,
      "outputs": [
        {
          "output_type": "stream",
          "name": "stdout",
          "text": [
            "world\n",
            "3\n"
          ]
        }
      ]
    },
    {
      "cell_type": "code",
      "source": [
        "my_dict = {'key':num,'b':b, 'num':34,'letters':letters}\n",
        "print(my_dict.get('letters', 'num'))"
      ],
      "metadata": {
        "colab": {
          "base_uri": "https://localhost:8080/"
        },
        "id": "qDnIP0ORicq6",
        "outputId": "1f5c0eba-07c7-4a7c-b5c8-9c575e469b28"
      },
      "execution_count": null,
      "outputs": [
        {
          "output_type": "stream",
          "name": "stdout",
          "text": [
            "['Hello', 'world', '!']\n"
          ]
        }
      ]
    },
    {
      "cell_type": "code",
      "source": [
        "if 10 == 5:\n",
        "  print('Yes')\n",
        "else:\n",
        "  print('No')"
      ],
      "metadata": {
        "colab": {
          "base_uri": "https://localhost:8080/"
        },
        "id": "bowsO4ZQjjPK",
        "outputId": "9a611aaf-a323-40b3-ab27-47c18d251e9f"
      },
      "execution_count": null,
      "outputs": [
        {
          "output_type": "stream",
          "name": "stdout",
          "text": [
            "No\n"
          ]
        }
      ]
    },
    {
      "cell_type": "code",
      "source": [
        "if my_dict.get('le4tters'):\n",
        "  print('Yes')\n",
        "else:\n",
        "  print('No')"
      ],
      "metadata": {
        "colab": {
          "base_uri": "https://localhost:8080/"
        },
        "id": "3hajhdi8kKDJ",
        "outputId": "5e4396af-f916-4cc8-ebfd-d31c7d91de55"
      },
      "execution_count": null,
      "outputs": [
        {
          "output_type": "stream",
          "name": "stdout",
          "text": [
            "No\n"
          ]
        }
      ]
    },
    {
      "cell_type": "code",
      "source": [
        "for element in letters:\n",
        "  print(element)"
      ],
      "metadata": {
        "colab": {
          "base_uri": "https://localhost:8080/"
        },
        "id": "FT8OzTkTktCL",
        "outputId": "32fa6c90-b301-40d3-a9da-680f4f5228d3"
      },
      "execution_count": null,
      "outputs": [
        {
          "output_type": "stream",
          "name": "stdout",
          "text": [
            "Hello\n",
            "world\n",
            "!\n"
          ]
        }
      ]
    },
    {
      "cell_type": "code",
      "source": [
        "i = 5\n",
        "while i >= 0:\n",
        "  print(i)\n",
        "  i -= 1"
      ],
      "metadata": {
        "colab": {
          "base_uri": "https://localhost:8080/"
        },
        "id": "H85FMd71lEmx",
        "outputId": "e93c71fa-1f8d-4ae8-ad54-4e5c8b689a51"
      },
      "execution_count": null,
      "outputs": [
        {
          "output_type": "stream",
          "name": "stdout",
          "text": [
            "5\n",
            "4\n",
            "3\n",
            "2\n",
            "1\n",
            "0\n"
          ]
        }
      ]
    },
    {
      "cell_type": "code",
      "source": [
        "k = 0\n",
        "while True:\n",
        "  print(k)\n",
        "  k += 1\n",
        "  if k >=5:\n",
        "    break "
      ],
      "metadata": {
        "colab": {
          "base_uri": "https://localhost:8080/"
        },
        "id": "aEYB63eNlx6q",
        "outputId": "72b9a989-48a4-4f93-9a38-a4618ef770a3"
      },
      "execution_count": null,
      "outputs": [
        {
          "output_type": "stream",
          "name": "stdout",
          "text": [
            "0\n",
            "1\n",
            "2\n",
            "3\n",
            "4\n"
          ]
        }
      ]
    },
    {
      "cell_type": "code",
      "source": [
        "\n",
        "def say(name):\n",
        "  result = 'Hello, ' + name\n",
        "  return result\n",
        "\n",
        "lists = ['hgj','jgjjg','hgjkg','jjji']\n",
        "g = say('lists')\n",
        "print(g)"
      ],
      "metadata": {
        "colab": {
          "base_uri": "https://localhost:8080/"
        },
        "id": "ykErM60LoSbr",
        "outputId": "b55fcb6b-a2d9-4ff5-f800-c337ef3daaf2"
      },
      "execution_count": null,
      "outputs": [
        {
          "output_type": "stream",
          "name": "stdout",
          "text": [
            "Hello, lists\n"
          ]
        }
      ]
    },
    {
      "cell_type": "code",
      "source": [
        "import requests\n",
        "from bs4 import BeautifulSoup\n",
        "url = 'http://books.toscrape.com/'\n",
        "page = requests.get(url)\n",
        "soup = BeautifulSoup(page.content, 'html.parser')"
      ],
      "metadata": {
        "id": "FpDtw7Sfufz1"
      },
      "execution_count": null,
      "outputs": []
    },
    {
      "cell_type": "code",
      "source": [
        "first = soup.find('a')\n",
        "print(first)"
      ],
      "metadata": {
        "colab": {
          "base_uri": "https://localhost:8080/"
        },
        "id": "K6AJVS7nwm2N",
        "outputId": "1f1dd9c1-2a22-45c7-a75e-c0f60beed79e"
      },
      "execution_count": null,
      "outputs": [
        {
          "output_type": "stream",
          "name": "stdout",
          "text": [
            "<a href=\"index.html\">Books to Scrape</a>\n"
          ]
        }
      ]
    },
    {
      "cell_type": "code",
      "source": [
        "all = soup.find_all('a')\n",
        "print(all)"
      ],
      "metadata": {
        "id": "SQBFiMxYw2qV"
      },
      "execution_count": null,
      "outputs": []
    },
    {
      "cell_type": "code",
      "source": [
        "content = first.get_text()\n",
        "print(content)"
      ],
      "metadata": {
        "colab": {
          "base_uri": "https://localhost:8080/"
        },
        "id": "Kj1ihNVpxU1-",
        "outputId": "a213d2bd-eab4-45f5-96bb-0d629c956d8c"
      },
      "execution_count": null,
      "outputs": [
        {
          "output_type": "stream",
          "name": "stdout",
          "text": [
            "Books to Scrape\n"
          ]
        }
      ]
    },
    {
      "cell_type": "code",
      "source": [
        "attr = first.get('href')\n",
        "print(attr)"
      ],
      "metadata": {
        "colab": {
          "base_uri": "https://localhost:8080/"
        },
        "id": "81RzUuw1zM2G",
        "outputId": "289f6d2f-afa1-4d0a-ed50-6278a246aea6"
      },
      "execution_count": null,
      "outputs": [
        {
          "output_type": "stream",
          "name": "stdout",
          "text": [
            "index.html\n"
          ]
        }
      ]
    },
    {
      "cell_type": "code",
      "source": [
        "cards = soup.find_all('article', attrs = {'class':'product_pod'})\n",
        "#print(len(cards))\n",
        "card = cards[0]\n",
        "print(card)"
      ],
      "metadata": {
        "colab": {
          "base_uri": "https://localhost:8080/"
        },
        "id": "o18i1Ixhzxm2",
        "outputId": "2c0fde37-8ce6-4c7b-b8ad-cbdca15c66fb"
      },
      "execution_count": null,
      "outputs": [
        {
          "output_type": "stream",
          "name": "stdout",
          "text": [
            "<article class=\"product_pod\">\n",
            "<div class=\"image_container\">\n",
            "<a href=\"catalogue/a-light-in-the-attic_1000/index.html\"><img alt=\"A Light in the Attic\" class=\"thumbnail\" src=\"media/cache/2c/da/2cdad67c44b002e7ead0cc35693c0e8b.jpg\"/></a>\n",
            "</div>\n",
            "<p class=\"star-rating Three\">\n",
            "<i class=\"icon-star\"></i>\n",
            "<i class=\"icon-star\"></i>\n",
            "<i class=\"icon-star\"></i>\n",
            "<i class=\"icon-star\"></i>\n",
            "<i class=\"icon-star\"></i>\n",
            "</p>\n",
            "<h3><a href=\"catalogue/a-light-in-the-attic_1000/index.html\" title=\"A Light in the Attic\">A Light in the ...</a></h3>\n",
            "<div class=\"product_price\">\n",
            "<p class=\"price_color\">£51.77</p>\n",
            "<p class=\"instock availability\">\n",
            "<i class=\"icon-ok\"></i>\n",
            "    \n",
            "        In stock\n",
            "    \n",
            "</p>\n",
            "<form>\n",
            "<button class=\"btn btn-primary btn-block\" data-loading-text=\"Adding...\" type=\"submit\">Add to basket</button>\n",
            "</form>\n",
            "</div>\n",
            "</article>\n"
          ]
        }
      ]
    },
    {
      "cell_type": "code",
      "source": [
        "# Назва книги\n",
        "title = card.find('h3').find('a').get('title')\n",
        "print(title)"
      ],
      "metadata": {
        "colab": {
          "base_uri": "https://localhost:8080/"
        },
        "id": "YV1ZQNNk1jkf",
        "outputId": "b68513ca-ea24-4234-dbb1-e560d1f98e4f"
      },
      "execution_count": null,
      "outputs": [
        {
          "output_type": "stream",
          "name": "stdout",
          "text": [
            "A Light in the Attic\n"
          ]
        }
      ]
    },
    {
      "cell_type": "code",
      "source": [
        "# Посилання книги\n",
        "link = url + card.find('h3').find('a').get('href')\n",
        "print(link)"
      ],
      "metadata": {
        "colab": {
          "base_uri": "https://localhost:8080/"
        },
        "id": "jFwRUl6-2B8W",
        "outputId": "9aecfde6-70e5-4cd6-b720-953bfa24c053"
      },
      "execution_count": null,
      "outputs": [
        {
          "output_type": "stream",
          "name": "stdout",
          "text": [
            "http://books.toscrape.com/catalogue/a-light-in-the-attic_1000/index.html\n"
          ]
        }
      ]
    },
    {
      "cell_type": "code",
      "source": [
        "#картика книги\n",
        "picture = url + card.find('img').get('src')\n",
        "print('picture')"
      ],
      "metadata": {
        "colab": {
          "base_uri": "https://localhost:8080/"
        },
        "id": "aw86L0tP2rbA",
        "outputId": "f9c796b0-a505-4688-8714-0b3631e44af2"
      },
      "execution_count": null,
      "outputs": [
        {
          "output_type": "stream",
          "name": "stdout",
          "text": [
            "picture\n"
          ]
        }
      ]
    },
    {
      "cell_type": "code",
      "source": [
        "#Ціна книги\n",
        "price = card.find('p', attrs={'class': 'price_color'}).get_text()[1:]\n",
        "print('picture')"
      ],
      "metadata": {
        "colab": {
          "base_uri": "https://localhost:8080/"
        },
        "id": "-AIC087Y3Kqm",
        "outputId": "ee28e69f-a6a9-4785-d712-21cfff36981c"
      },
      "execution_count": null,
      "outputs": [
        {
          "output_type": "stream",
          "name": "stdout",
          "text": [
            "picture\n"
          ]
        }
      ]
    },
    {
      "cell_type": "code",
      "source": [
        "#Рейтинг\n",
        "rating = card.find('p', attrs={\"class\":\"star-rating\"}).get_text('class')[1]\n",
        "print(rating)"
      ],
      "metadata": {
        "colab": {
          "base_uri": "https://localhost:8080/"
        },
        "id": "m6VmRguh32ig",
        "outputId": "c7ed1cc0-2c40-4693-fdd8-2da6a3694a25"
      },
      "execution_count": null,
      "outputs": [
        {
          "output_type": "stream",
          "name": "stdout",
          "text": [
            "c\n"
          ]
        }
      ]
    },
    {
      "cell_type": "code",
      "source": [
        "books  = []\n",
        "for card in cards:\n",
        "  info = {'link' : url + card.find('h3').find('a').get('href'), \n",
        "          'picture': url + card.find('img').get('src'), }\n",
        "  books.append(info)\n",
        "\n",
        "print(books)"
      ],
      "metadata": {
        "colab": {
          "base_uri": "https://localhost:8080/"
        },
        "id": "nxfRMSBN5AtQ",
        "outputId": "edd58586-1184-4473-8794-082d25543b61"
      },
      "execution_count": null,
      "outputs": [
        {
          "output_type": "stream",
          "name": "stdout",
          "text": [
            "[{'link': 'http://books.toscrape.com/catalogue/a-light-in-the-attic_1000/index.html', 'picture': 'http://books.toscrape.com/media/cache/2c/da/2cdad67c44b002e7ead0cc35693c0e8b.jpg'}, {'link': 'http://books.toscrape.com/catalogue/tipping-the-velvet_999/index.html', 'picture': 'http://books.toscrape.com/media/cache/26/0c/260c6ae16bce31c8f8c95daddd9f4a1c.jpg'}, {'link': 'http://books.toscrape.com/catalogue/soumission_998/index.html', 'picture': 'http://books.toscrape.com/media/cache/3e/ef/3eef99c9d9adef34639f510662022830.jpg'}, {'link': 'http://books.toscrape.com/catalogue/sharp-objects_997/index.html', 'picture': 'http://books.toscrape.com/media/cache/32/51/3251cf3a3412f53f339e42cac2134093.jpg'}, {'link': 'http://books.toscrape.com/catalogue/sapiens-a-brief-history-of-humankind_996/index.html', 'picture': 'http://books.toscrape.com/media/cache/be/a5/bea5697f2534a2f86a3ef27b5a8c12a6.jpg'}, {'link': 'http://books.toscrape.com/catalogue/the-requiem-red_995/index.html', 'picture': 'http://books.toscrape.com/media/cache/68/33/68339b4c9bc034267e1da611ab3b34f8.jpg'}, {'link': 'http://books.toscrape.com/catalogue/the-dirty-little-secrets-of-getting-your-dream-job_994/index.html', 'picture': 'http://books.toscrape.com/media/cache/92/27/92274a95b7c251fea59a2b8a78275ab4.jpg'}, {'link': 'http://books.toscrape.com/catalogue/the-coming-woman-a-novel-based-on-the-life-of-the-infamous-feminist-victoria-woodhull_993/index.html', 'picture': 'http://books.toscrape.com/media/cache/3d/54/3d54940e57e662c4dd1f3ff00c78cc64.jpg'}, {'link': 'http://books.toscrape.com/catalogue/the-boys-in-the-boat-nine-americans-and-their-epic-quest-for-gold-at-the-1936-berlin-olympics_992/index.html', 'picture': 'http://books.toscrape.com/media/cache/66/88/66883b91f6804b2323c8369331cb7dd1.jpg'}, {'link': 'http://books.toscrape.com/catalogue/the-black-maria_991/index.html', 'picture': 'http://books.toscrape.com/media/cache/58/46/5846057e28022268153beff6d352b06c.jpg'}, {'link': 'http://books.toscrape.com/catalogue/starving-hearts-triangular-trade-trilogy-1_990/index.html', 'picture': 'http://books.toscrape.com/media/cache/be/f4/bef44da28c98f905a3ebec0b87be8530.jpg'}, {'link': 'http://books.toscrape.com/catalogue/shakespeares-sonnets_989/index.html', 'picture': 'http://books.toscrape.com/media/cache/10/48/1048f63d3b5061cd2f424d20b3f9b666.jpg'}, {'link': 'http://books.toscrape.com/catalogue/set-me-free_988/index.html', 'picture': 'http://books.toscrape.com/media/cache/5b/88/5b88c52633f53cacf162c15f4f823153.jpg'}, {'link': 'http://books.toscrape.com/catalogue/scott-pilgrims-precious-little-life-scott-pilgrim-1_987/index.html', 'picture': 'http://books.toscrape.com/media/cache/94/b1/94b1b8b244bce9677c2f29ccc890d4d2.jpg'}, {'link': 'http://books.toscrape.com/catalogue/rip-it-up-and-start-again_986/index.html', 'picture': 'http://books.toscrape.com/media/cache/81/c4/81c4a973364e17d01f217e1188253d5e.jpg'}, {'link': 'http://books.toscrape.com/catalogue/our-band-could-be-your-life-scenes-from-the-american-indie-underground-1981-1991_985/index.html', 'picture': 'http://books.toscrape.com/media/cache/54/60/54607fe8945897cdcced0044103b10b6.jpg'}, {'link': 'http://books.toscrape.com/catalogue/olio_984/index.html', 'picture': 'http://books.toscrape.com/media/cache/55/33/553310a7162dfbc2c6d19a84da0df9e1.jpg'}, {'link': 'http://books.toscrape.com/catalogue/mesaerion-the-best-science-fiction-stories-1800-1849_983/index.html', 'picture': 'http://books.toscrape.com/media/cache/09/a3/09a3aef48557576e1a85ba7efea8ecb7.jpg'}, {'link': 'http://books.toscrape.com/catalogue/libertarianism-for-beginners_982/index.html', 'picture': 'http://books.toscrape.com/media/cache/0b/bc/0bbcd0a6f4bcd81ccb1049a52736406e.jpg'}, {'link': 'http://books.toscrape.com/catalogue/its-only-the-himalayas_981/index.html', 'picture': 'http://books.toscrape.com/media/cache/27/a5/27a53d0bb95bdd88288eaf66c9230d7e.jpg'}]\n"
          ]
        }
      ]
    },
    {
      "cell_type": "code",
      "source": [
        "def find_books_on_page(cards):\n",
        "  books  = []\n",
        "  for card in cards:\n",
        "    info = {'link' : url + card.find('h3').find('a').get('href'), \n",
        "            'picture': url + card.find('img').get('src'), }\n",
        "    books.append(info)\n",
        "\n",
        "  return books\n",
        "\n",
        "books = find_books_on_page(cards)\n",
        "print(books)"
      ],
      "metadata": {
        "colab": {
          "base_uri": "https://localhost:8080/"
        },
        "id": "a-0jwqw86S8R",
        "outputId": "1175a411-3c7f-4e6d-97f5-d3edb6639f97"
      },
      "execution_count": null,
      "outputs": [
        {
          "output_type": "stream",
          "name": "stdout",
          "text": [
            "[{'link': 'http://books.toscrape.com/catalogue/a-light-in-the-attic_1000/index.html', 'picture': 'http://books.toscrape.com/media/cache/2c/da/2cdad67c44b002e7ead0cc35693c0e8b.jpg'}, {'link': 'http://books.toscrape.com/catalogue/tipping-the-velvet_999/index.html', 'picture': 'http://books.toscrape.com/media/cache/26/0c/260c6ae16bce31c8f8c95daddd9f4a1c.jpg'}, {'link': 'http://books.toscrape.com/catalogue/soumission_998/index.html', 'picture': 'http://books.toscrape.com/media/cache/3e/ef/3eef99c9d9adef34639f510662022830.jpg'}, {'link': 'http://books.toscrape.com/catalogue/sharp-objects_997/index.html', 'picture': 'http://books.toscrape.com/media/cache/32/51/3251cf3a3412f53f339e42cac2134093.jpg'}, {'link': 'http://books.toscrape.com/catalogue/sapiens-a-brief-history-of-humankind_996/index.html', 'picture': 'http://books.toscrape.com/media/cache/be/a5/bea5697f2534a2f86a3ef27b5a8c12a6.jpg'}, {'link': 'http://books.toscrape.com/catalogue/the-requiem-red_995/index.html', 'picture': 'http://books.toscrape.com/media/cache/68/33/68339b4c9bc034267e1da611ab3b34f8.jpg'}, {'link': 'http://books.toscrape.com/catalogue/the-dirty-little-secrets-of-getting-your-dream-job_994/index.html', 'picture': 'http://books.toscrape.com/media/cache/92/27/92274a95b7c251fea59a2b8a78275ab4.jpg'}, {'link': 'http://books.toscrape.com/catalogue/the-coming-woman-a-novel-based-on-the-life-of-the-infamous-feminist-victoria-woodhull_993/index.html', 'picture': 'http://books.toscrape.com/media/cache/3d/54/3d54940e57e662c4dd1f3ff00c78cc64.jpg'}, {'link': 'http://books.toscrape.com/catalogue/the-boys-in-the-boat-nine-americans-and-their-epic-quest-for-gold-at-the-1936-berlin-olympics_992/index.html', 'picture': 'http://books.toscrape.com/media/cache/66/88/66883b91f6804b2323c8369331cb7dd1.jpg'}, {'link': 'http://books.toscrape.com/catalogue/the-black-maria_991/index.html', 'picture': 'http://books.toscrape.com/media/cache/58/46/5846057e28022268153beff6d352b06c.jpg'}, {'link': 'http://books.toscrape.com/catalogue/starving-hearts-triangular-trade-trilogy-1_990/index.html', 'picture': 'http://books.toscrape.com/media/cache/be/f4/bef44da28c98f905a3ebec0b87be8530.jpg'}, {'link': 'http://books.toscrape.com/catalogue/shakespeares-sonnets_989/index.html', 'picture': 'http://books.toscrape.com/media/cache/10/48/1048f63d3b5061cd2f424d20b3f9b666.jpg'}, {'link': 'http://books.toscrape.com/catalogue/set-me-free_988/index.html', 'picture': 'http://books.toscrape.com/media/cache/5b/88/5b88c52633f53cacf162c15f4f823153.jpg'}, {'link': 'http://books.toscrape.com/catalogue/scott-pilgrims-precious-little-life-scott-pilgrim-1_987/index.html', 'picture': 'http://books.toscrape.com/media/cache/94/b1/94b1b8b244bce9677c2f29ccc890d4d2.jpg'}, {'link': 'http://books.toscrape.com/catalogue/rip-it-up-and-start-again_986/index.html', 'picture': 'http://books.toscrape.com/media/cache/81/c4/81c4a973364e17d01f217e1188253d5e.jpg'}, {'link': 'http://books.toscrape.com/catalogue/our-band-could-be-your-life-scenes-from-the-american-indie-underground-1981-1991_985/index.html', 'picture': 'http://books.toscrape.com/media/cache/54/60/54607fe8945897cdcced0044103b10b6.jpg'}, {'link': 'http://books.toscrape.com/catalogue/olio_984/index.html', 'picture': 'http://books.toscrape.com/media/cache/55/33/553310a7162dfbc2c6d19a84da0df9e1.jpg'}, {'link': 'http://books.toscrape.com/catalogue/mesaerion-the-best-science-fiction-stories-1800-1849_983/index.html', 'picture': 'http://books.toscrape.com/media/cache/09/a3/09a3aef48557576e1a85ba7efea8ecb7.jpg'}, {'link': 'http://books.toscrape.com/catalogue/libertarianism-for-beginners_982/index.html', 'picture': 'http://books.toscrape.com/media/cache/0b/bc/0bbcd0a6f4bcd81ccb1049a52736406e.jpg'}, {'link': 'http://books.toscrape.com/catalogue/its-only-the-himalayas_981/index.html', 'picture': 'http://books.toscrape.com/media/cache/27/a5/27a53d0bb95bdd88288eaf66c9230d7e.jpg'}]\n"
          ]
        }
      ]
    },
    {
      "cell_type": "code",
      "source": [
        "#Весь код\n",
        "import requests\n",
        "from bs4 import BeautifulSoup\n",
        "url = 'http://books.toscrape.com/'\n",
        "page = requests.get(url)\n",
        "soup = BeautifulSoup(page.content, 'html.parser')\n",
        "cards = soup.find_all('article', attrs = {'class':'product_pod'})\n",
        "books = find_books_on_page(cards)\n",
        "\n",
        "while True:\n",
        "  tag_next_link = soup.find('li', attrs={'class':\"next\"})\n",
        "  if tag_next_link:\n",
        "    next_link = tag_next_link.find('a').get('href')\n",
        "    page = requests.get(url + next_link)\n",
        "    url = 'http://books.toscrape.com/catalogue/'\n",
        "    soup = BeautifulSoup(page.content, 'html.parser')\n",
        "    cards = soup.find_all('article',attrs={'class':'product_pod'})\n",
        "    books = books + find_books_on_page(cards)\n",
        "  else:\n",
        "    break"
      ],
      "metadata": {
        "id": "F_s1_LpU7YhC"
      },
      "execution_count": null,
      "outputs": []
    },
    {
      "cell_type": "code",
      "source": [
        "print(books)"
      ],
      "metadata": {
        "colab": {
          "base_uri": "https://localhost:8080/"
        },
        "id": "GcGD3J8A-o2y",
        "outputId": "4a032612-e4c9-4731-d153-66a5d9fef4b4"
      },
      "execution_count": null,
      "outputs": [
        {
          "output_type": "stream",
          "name": "stdout",
          "text": [
            "[{'link': 'http://books.toscrape.com/catalogue/a-light-in-the-attic_1000/index.html', 'picture': 'http://books.toscrape.com/media/cache/2c/da/2cdad67c44b002e7ead0cc35693c0e8b.jpg'}, {'link': 'http://books.toscrape.com/catalogue/tipping-the-velvet_999/index.html', 'picture': 'http://books.toscrape.com/media/cache/26/0c/260c6ae16bce31c8f8c95daddd9f4a1c.jpg'}, {'link': 'http://books.toscrape.com/catalogue/soumission_998/index.html', 'picture': 'http://books.toscrape.com/media/cache/3e/ef/3eef99c9d9adef34639f510662022830.jpg'}, {'link': 'http://books.toscrape.com/catalogue/sharp-objects_997/index.html', 'picture': 'http://books.toscrape.com/media/cache/32/51/3251cf3a3412f53f339e42cac2134093.jpg'}, {'link': 'http://books.toscrape.com/catalogue/sapiens-a-brief-history-of-humankind_996/index.html', 'picture': 'http://books.toscrape.com/media/cache/be/a5/bea5697f2534a2f86a3ef27b5a8c12a6.jpg'}, {'link': 'http://books.toscrape.com/catalogue/the-requiem-red_995/index.html', 'picture': 'http://books.toscrape.com/media/cache/68/33/68339b4c9bc034267e1da611ab3b34f8.jpg'}, {'link': 'http://books.toscrape.com/catalogue/the-dirty-little-secrets-of-getting-your-dream-job_994/index.html', 'picture': 'http://books.toscrape.com/media/cache/92/27/92274a95b7c251fea59a2b8a78275ab4.jpg'}, {'link': 'http://books.toscrape.com/catalogue/the-coming-woman-a-novel-based-on-the-life-of-the-infamous-feminist-victoria-woodhull_993/index.html', 'picture': 'http://books.toscrape.com/media/cache/3d/54/3d54940e57e662c4dd1f3ff00c78cc64.jpg'}, {'link': 'http://books.toscrape.com/catalogue/the-boys-in-the-boat-nine-americans-and-their-epic-quest-for-gold-at-the-1936-berlin-olympics_992/index.html', 'picture': 'http://books.toscrape.com/media/cache/66/88/66883b91f6804b2323c8369331cb7dd1.jpg'}, {'link': 'http://books.toscrape.com/catalogue/the-black-maria_991/index.html', 'picture': 'http://books.toscrape.com/media/cache/58/46/5846057e28022268153beff6d352b06c.jpg'}, {'link': 'http://books.toscrape.com/catalogue/starving-hearts-triangular-trade-trilogy-1_990/index.html', 'picture': 'http://books.toscrape.com/media/cache/be/f4/bef44da28c98f905a3ebec0b87be8530.jpg'}, {'link': 'http://books.toscrape.com/catalogue/shakespeares-sonnets_989/index.html', 'picture': 'http://books.toscrape.com/media/cache/10/48/1048f63d3b5061cd2f424d20b3f9b666.jpg'}, {'link': 'http://books.toscrape.com/catalogue/set-me-free_988/index.html', 'picture': 'http://books.toscrape.com/media/cache/5b/88/5b88c52633f53cacf162c15f4f823153.jpg'}, {'link': 'http://books.toscrape.com/catalogue/scott-pilgrims-precious-little-life-scott-pilgrim-1_987/index.html', 'picture': 'http://books.toscrape.com/media/cache/94/b1/94b1b8b244bce9677c2f29ccc890d4d2.jpg'}, {'link': 'http://books.toscrape.com/catalogue/rip-it-up-and-start-again_986/index.html', 'picture': 'http://books.toscrape.com/media/cache/81/c4/81c4a973364e17d01f217e1188253d5e.jpg'}, {'link': 'http://books.toscrape.com/catalogue/our-band-could-be-your-life-scenes-from-the-american-indie-underground-1981-1991_985/index.html', 'picture': 'http://books.toscrape.com/media/cache/54/60/54607fe8945897cdcced0044103b10b6.jpg'}, {'link': 'http://books.toscrape.com/catalogue/olio_984/index.html', 'picture': 'http://books.toscrape.com/media/cache/55/33/553310a7162dfbc2c6d19a84da0df9e1.jpg'}, {'link': 'http://books.toscrape.com/catalogue/mesaerion-the-best-science-fiction-stories-1800-1849_983/index.html', 'picture': 'http://books.toscrape.com/media/cache/09/a3/09a3aef48557576e1a85ba7efea8ecb7.jpg'}, {'link': 'http://books.toscrape.com/catalogue/libertarianism-for-beginners_982/index.html', 'picture': 'http://books.toscrape.com/media/cache/0b/bc/0bbcd0a6f4bcd81ccb1049a52736406e.jpg'}, {'link': 'http://books.toscrape.com/catalogue/its-only-the-himalayas_981/index.html', 'picture': 'http://books.toscrape.com/media/cache/27/a5/27a53d0bb95bdd88288eaf66c9230d7e.jpg'}]\n"
          ]
        }
      ]
    },
    {
      "cell_type": "code",
      "source": [
        "import csv"
      ],
      "metadata": {
        "id": "dZpiBfl7-_Vi"
      },
      "execution_count": null,
      "outputs": []
    },
    {
      "cell_type": "markdown",
      "source": [],
      "metadata": {
        "id": "hrgiD-219tEa"
      }
    }
  ]
}