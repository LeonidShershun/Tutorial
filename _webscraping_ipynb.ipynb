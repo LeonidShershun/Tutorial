{
  "nbformat": 4,
  "nbformat_minor": 0,
  "metadata": {
    "colab": {
      "provenance": [],
      "include_colab_link": true
    },
    "kernelspec": {
      "name": "python3",
      "display_name": "Python 3"
    },
    "language_info": {
      "name": "python"
    }
  },
  "cells": [
    {
      "cell_type": "markdown",
      "metadata": {
        "id": "view-in-github",
        "colab_type": "text"
      },
      "source": [
        "<a href=\"https://colab.research.google.com/github/LeonidShershun/Tutorial/blob/main/_webscraping_ipynb.ipynb\" target=\"_parent\"><img src=\"https://colab.research.google.com/assets/colab-badge.svg\" alt=\"Open In Colab\"/></a>"
      ]
    },
    {
      "cell_type": "code",
      "execution_count": null,
      "metadata": {
        "colab": {
          "base_uri": "https://localhost:8080/"
        },
        "id": "U7fVhBdYf6Nh",
        "outputId": "264091a1-6a58-4112-934d-4aaf228b38c8"
      },
      "outputs": [
        {
          "output_type": "stream",
          "name": "stdout",
          "text": [
            "Hello world!\n"
          ]
        }
      ],
      "source": [
        "a = \"Hello world!\"\n",
        "print(a)"
      ]
    },
    {
      "cell_type": "code",
      "source": [
        "num = 10\n",
        "b = a + \" \" + \"Hi python\"\n",
        "print(b)"
      ],
      "metadata": {
        "colab": {
          "base_uri": "https://localhost:8080/"
        },
        "id": "kT_n1kR3guOV",
        "outputId": "7d41f04c-f59b-4621-bf5a-9008d1a9a751"
      },
      "execution_count": null,
      "outputs": [
        {
          "output_type": "stream",
          "name": "stdout",
          "text": [
            "Hello world! Hi python\n"
          ]
        }
      ]
    },
    {
      "cell_type": "code",
      "source": [
        "print(10 == 5)"
      ],
      "metadata": {
        "colab": {
          "base_uri": "https://localhost:8080/"
        },
        "id": "OemTVJGvha_m",
        "outputId": "c79e4b7c-5cfa-41db-997c-aabb6aa3b3e9"
      },
      "execution_count": null,
      "outputs": [
        {
          "output_type": "stream",
          "name": "stdout",
          "text": [
            "False\n"
          ]
        }
      ]
    },
    {
      "cell_type": "code",
      "source": [
        "letters = [\"Hello\", \"world\", \"!\"]\n",
        "print(letters[2])\n"
      ],
      "metadata": {
        "colab": {
          "base_uri": "https://localhost:8080/"
        },
        "id": "ANeD_onkhvGe",
        "outputId": "6c00868b-14b4-431b-f90a-ca63ee9cb7ba"
      },
      "execution_count": null,
      "outputs": [
        {
          "output_type": "stream",
          "name": "stdout",
          "text": [
            "!\n"
          ]
        }
      ]
    },
    {
      "cell_type": "code",
      "source": [
        "my_dict = {\"key\": num, \"b\": b, \"num\": 34, \"letters\": letters}\n",
        "print(my_dict.get(\"letters\"))"
      ],
      "metadata": {
        "colab": {
          "base_uri": "https://localhost:8080/"
        },
        "id": "yCUlmd3miaJI",
        "outputId": "3e19124b-647d-4173-8e85-442d985f5518"
      },
      "execution_count": null,
      "outputs": [
        {
          "output_type": "stream",
          "name": "stdout",
          "text": [
            "['Hello', 'world', '!']\n"
          ]
        }
      ]
    },
    {
      "cell_type": "code",
      "source": [
        "if 10 < 5:\n",
        "  print(True)\n",
        "else:\n",
        "  print(False)"
      ],
      "metadata": {
        "colab": {
          "base_uri": "https://localhost:8080/"
        },
        "id": "_-xY6h80jiXQ",
        "outputId": "102e5309-880f-46ef-af81-698cfb85177a"
      },
      "execution_count": null,
      "outputs": [
        {
          "output_type": "stream",
          "name": "stdout",
          "text": [
            "False\n"
          ]
        }
      ]
    },
    {
      "cell_type": "code",
      "source": [
        "if my_dict.get(\"lt\"):\n",
        "  print(\"Ключ існує\")\n",
        "else:\n",
        "  print(\"Ключ не існує\")\n"
      ],
      "metadata": {
        "colab": {
          "base_uri": "https://localhost:8080/"
        },
        "id": "zjxlJjr6kGCS",
        "outputId": "c175b373-3e4f-497e-bcf5-d455ba3128dc"
      },
      "execution_count": null,
      "outputs": [
        {
          "output_type": "stream",
          "name": "stdout",
          "text": [
            "Ключ не існує\n"
          ]
        }
      ]
    },
    {
      "cell_type": "code",
      "source": [
        "for element in letters:\n",
        "  print(element)"
      ],
      "metadata": {
        "colab": {
          "base_uri": "https://localhost:8080/"
        },
        "id": "LbuCr7XKkuTQ",
        "outputId": "47b436f7-ef89-48e8-e705-c3f1e954b3e0"
      },
      "execution_count": null,
      "outputs": [
        {
          "output_type": "stream",
          "name": "stdout",
          "text": [
            "Hello\n",
            "world\n",
            "!\n"
          ]
        }
      ]
    },
    {
      "cell_type": "code",
      "source": [
        "k = 0\n",
        "while k < 10:\n",
        "  k = k + 1\n",
        "  print(k)\n",
        "  "
      ],
      "metadata": {
        "id": "UTmNHQrClFno"
      },
      "execution_count": null,
      "outputs": []
    },
    {
      "cell_type": "code",
      "source": [
        "k = 0\n",
        "while True:\n",
        "  k = k + 1\n",
        "  print(k)\n",
        "  if k >= 10:\n",
        "    break"
      ],
      "metadata": {
        "id": "gzzJnReHlweL"
      },
      "execution_count": null,
      "outputs": []
    },
    {
      "cell_type": "code",
      "source": [
        "l = 4\n",
        "while l <= 10:\n",
        "  l= l+2\n",
        "print(l)\n"
      ],
      "metadata": {
        "colab": {
          "base_uri": "https://localhost:8080/"
        },
        "id": "gw9_5TWKmdyX",
        "outputId": "3cd187dd-bec8-48e5-c228-85bd40d94e75"
      },
      "execution_count": null,
      "outputs": [
        {
          "output_type": "stream",
          "name": "stdout",
          "text": [
            "12\n"
          ]
        }
      ]
    },
    {
      "cell_type": "code",
      "source": [
        "def say(name):\n",
        "  result = 'Hello ' + name\n",
        "  return result\n",
        "\n",
        "names = ['Andriy', \"Vasya\", \"Olena\", \"Alex\", \"Margarita\", \"Danil\", \"Irina\", \"Sergiy\", \"Vadim\"]\n",
        "\n",
        "for name in names:\n",
        "  greeting = say(name)\n",
        "  print(greeting)"
      ],
      "metadata": {
        "colab": {
          "base_uri": "https://localhost:8080/"
        },
        "id": "S971kOR-m-7A",
        "outputId": "cf2aec4c-4c7c-4c15-d095-811189b6d3b5"
      },
      "execution_count": null,
      "outputs": [
        {
          "output_type": "stream",
          "name": "stdout",
          "text": [
            "Hello Andriy\n",
            "Hello Vasya\n",
            "Hello Olena\n",
            "Hello Alex\n",
            "Hello Margarita\n",
            "Hello Danil\n",
            "Hello Irina\n",
            "Hello Sergiy\n",
            "Hello Vadim\n"
          ]
        }
      ]
    },
    {
      "cell_type": "code",
      "source": [
        "pip install requests"
      ],
      "metadata": {
        "colab": {
          "base_uri": "https://localhost:8080/"
        },
        "id": "ZNLL8MlyxnXF",
        "outputId": "c12c3b67-8fd0-48c4-bf4d-e42ed038d735"
      },
      "execution_count": null,
      "outputs": [
        {
          "output_type": "stream",
          "name": "stdout",
          "text": [
            "Looking in indexes: https://pypi.org/simple, https://us-python.pkg.dev/colab-wheels/public/simple/\n",
            "Requirement already satisfied: requests in /usr/local/lib/python3.10/dist-packages (2.27.1)\n",
            "Requirement already satisfied: urllib3<1.27,>=1.21.1 in /usr/local/lib/python3.10/dist-packages (from requests) (1.26.15)\n",
            "Requirement already satisfied: certifi>=2017.4.17 in /usr/local/lib/python3.10/dist-packages (from requests) (2022.12.7)\n",
            "Requirement already satisfied: charset-normalizer~=2.0.0 in /usr/local/lib/python3.10/dist-packages (from requests) (2.0.12)\n",
            "Requirement already satisfied: idna<4,>=2.5 in /usr/local/lib/python3.10/dist-packages (from requests) (3.4)\n"
          ]
        }
      ]
    },
    {
      "cell_type": "code",
      "source": [
        "pip install beautifulsoup4"
      ],
      "metadata": {
        "colab": {
          "base_uri": "https://localhost:8080/"
        },
        "id": "mm9Ujz_EyHr1",
        "outputId": "3b0bdd24-f0d7-48dc-eb9c-be10742821a0"
      },
      "execution_count": null,
      "outputs": [
        {
          "output_type": "stream",
          "name": "stdout",
          "text": [
            "Looking in indexes: https://pypi.org/simple, https://us-python.pkg.dev/colab-wheels/public/simple/\n",
            "Requirement already satisfied: beautifulsoup4 in /usr/local/lib/python3.10/dist-packages (4.11.2)\n",
            "Requirement already satisfied: soupsieve>1.2 in /usr/local/lib/python3.10/dist-packages (from beautifulsoup4) (2.4.1)\n"
          ]
        }
      ]
    },
    {
      "cell_type": "code",
      "source": [
        "import requests\n",
        "from bs4 import BeautifulSoup\n",
        "\n",
        "url = 'https://books.toscrape.com/'\n",
        "page = requests.get(url)\n",
        "\n",
        "soup = BeautifulSoup(page.content, \"html.parser\")\n"
      ],
      "metadata": {
        "id": "E5HbNDYcufc8"
      },
      "execution_count": null,
      "outputs": []
    },
    {
      "cell_type": "code",
      "source": [
        "first = soup.find('a')\n",
        "print(first)"
      ],
      "metadata": {
        "colab": {
          "base_uri": "https://localhost:8080/"
        },
        "id": "gO5KQs3Bwmpe",
        "outputId": "92f93a96-cb08-4641-d0b2-0f3a9f9ad814"
      },
      "execution_count": null,
      "outputs": [
        {
          "output_type": "stream",
          "name": "stdout",
          "text": [
            "<a href=\"index.html\">Books to Scrape</a>\n"
          ]
        }
      ]
    },
    {
      "cell_type": "code",
      "source": [
        "all = soup.find_all('a')\n",
        "print(all)"
      ],
      "metadata": {
        "id": "F2igLzf3w1WE"
      },
      "execution_count": null,
      "outputs": []
    },
    {
      "cell_type": "code",
      "source": [
        "content = first.get_text()\n",
        "print(content)"
      ],
      "metadata": {
        "colab": {
          "base_uri": "https://localhost:8080/"
        },
        "id": "wPt7glM3xUzt",
        "outputId": "1247854e-6493-4ad0-926e-04bdf92045a8"
      },
      "execution_count": null,
      "outputs": [
        {
          "output_type": "stream",
          "name": "stdout",
          "text": [
            "Books to Scrape\n"
          ]
        }
      ]
    },
    {
      "cell_type": "code",
      "source": [
        "attr = first.get('href')\n",
        "print(attr)"
      ],
      "metadata": {
        "colab": {
          "base_uri": "https://localhost:8080/"
        },
        "id": "1dKtav--zMAe",
        "outputId": "4f81bb5c-fed7-46a6-906f-239a1cef7652"
      },
      "execution_count": null,
      "outputs": [
        {
          "output_type": "stream",
          "name": "stdout",
          "text": [
            "index.html\n"
          ]
        }
      ]
    },
    {
      "cell_type": "code",
      "source": [
        "cards = soup.find_all('article', attrs={\"class\": \"product_pod\"})\n",
        "card = cards[0]\n",
        "print(card)"
      ],
      "metadata": {
        "id": "5EsZ0Rghzxym"
      },
      "execution_count": null,
      "outputs": []
    },
    {
      "cell_type": "code",
      "source": [
        "# Назва книги\n",
        "title = card.find('h3').find('a').get('title')\n",
        "print(title)"
      ],
      "metadata": {
        "colab": {
          "base_uri": "https://localhost:8080/"
        },
        "id": "_iiQH0951iox",
        "outputId": "9a6870fa-a99e-4e9e-d541-a0f3d99cc1b0"
      },
      "execution_count": null,
      "outputs": [
        {
          "output_type": "stream",
          "name": "stdout",
          "text": [
            "A Light in the Attic\n"
          ]
        }
      ]
    },
    {
      "cell_type": "code",
      "source": [
        "# Посилання книги\n",
        "link = url + card.find('h3').find('a').get('href')\n",
        "print(link)"
      ],
      "metadata": {
        "colab": {
          "base_uri": "https://localhost:8080/"
        },
        "id": "QihXwktn16WQ",
        "outputId": "daacadaf-5541-4eba-b29a-9e500e53cf36"
      },
      "execution_count": null,
      "outputs": [
        {
          "output_type": "stream",
          "name": "stdout",
          "text": [
            "https://books.toscrape.com/catalogue/a-light-in-the-attic_1000/index.html\n"
          ]
        }
      ]
    },
    {
      "cell_type": "code",
      "source": [
        "# Картинка книги\n",
        "picture = url + card.find('img').get('src')\n",
        "print(picture)"
      ],
      "metadata": {
        "colab": {
          "base_uri": "https://localhost:8080/"
        },
        "id": "vhPDf8yZ2wlQ",
        "outputId": "de637e9a-ead2-41d5-807b-f5ccd6e5b941"
      },
      "execution_count": null,
      "outputs": [
        {
          "output_type": "stream",
          "name": "stdout",
          "text": [
            "https://books.toscrape.com/media/cache/2c/da/2cdad67c44b002e7ead0cc35693c0e8b.jpg\n"
          ]
        }
      ]
    },
    {
      "cell_type": "code",
      "source": [
        "# Ціна товару\n",
        "price = card.find('p', attrs={\"class\": \"price_color\"}).get_text()[1:]\n",
        "print(price)"
      ],
      "metadata": {
        "colab": {
          "base_uri": "https://localhost:8080/"
        },
        "id": "f1ToCgTz3AwH",
        "outputId": "76134025-bd49-46af-c2c1-8c52bbbaeec9"
      },
      "execution_count": null,
      "outputs": [
        {
          "output_type": "stream",
          "name": "stdout",
          "text": [
            "51.77\n"
          ]
        }
      ]
    },
    {
      "cell_type": "code",
      "source": [
        "# Ретинг\n",
        "rating = card.find('p', attrs={\"class\": \"star-rating\"}).get('class')[1]\n",
        "print(rating)"
      ],
      "metadata": {
        "colab": {
          "base_uri": "https://localhost:8080/"
        },
        "id": "_ijDxher3xkT",
        "outputId": "d3f396ea-ae56-4f30-a719-5b97a49d4b21"
      },
      "execution_count": null,
      "outputs": [
        {
          "output_type": "stream",
          "name": "stdout",
          "text": [
            "Three\n"
          ]
        }
      ]
    },
    {
      "cell_type": "code",
      "source": [
        "books = []\n",
        "\n",
        "for card in cards:\n",
        "  info = {\n",
        "      \"title\": card.find('h3').find('a').get('title'),\n",
        "      \"link\": url + card.find('h3').find('a').get('href'),\n",
        "      \"picture\": url + card.find('img').get('src'),\n",
        "      \"price\": card.find('p', attrs={\"class\": \"price_color\"}).get_text()[1:],\n",
        "      \"rating\": card.find('p', attrs={\"class\": \"star-rating\"}).get('class')[1]\n",
        "  }\n",
        "  books.append(info)\n",
        "\n",
        "print(books)\n"
      ],
      "metadata": {
        "colab": {
          "base_uri": "https://localhost:8080/"
        },
        "id": "KkiVkcHP48qb",
        "outputId": "a45c5676-db39-424f-90af-5969b37761d3"
      },
      "execution_count": null,
      "outputs": [
        {
          "output_type": "stream",
          "name": "stdout",
          "text": [
            "[{'title': 'A Light in the Attic', 'link': 'https://books.toscrape.com/catalogue/a-light-in-the-attic_1000/index.html', 'picture': 'https://books.toscrape.com/media/cache/2c/da/2cdad67c44b002e7ead0cc35693c0e8b.jpg', 'price': '51.77', 'rating': 'Three'}, {'title': 'Tipping the Velvet', 'link': 'https://books.toscrape.com/catalogue/tipping-the-velvet_999/index.html', 'picture': 'https://books.toscrape.com/media/cache/26/0c/260c6ae16bce31c8f8c95daddd9f4a1c.jpg', 'price': '53.74', 'rating': 'One'}, {'title': 'Soumission', 'link': 'https://books.toscrape.com/catalogue/soumission_998/index.html', 'picture': 'https://books.toscrape.com/media/cache/3e/ef/3eef99c9d9adef34639f510662022830.jpg', 'price': '50.10', 'rating': 'One'}, {'title': 'Sharp Objects', 'link': 'https://books.toscrape.com/catalogue/sharp-objects_997/index.html', 'picture': 'https://books.toscrape.com/media/cache/32/51/3251cf3a3412f53f339e42cac2134093.jpg', 'price': '47.82', 'rating': 'Four'}, {'title': 'Sapiens: A Brief History of Humankind', 'link': 'https://books.toscrape.com/catalogue/sapiens-a-brief-history-of-humankind_996/index.html', 'picture': 'https://books.toscrape.com/media/cache/be/a5/bea5697f2534a2f86a3ef27b5a8c12a6.jpg', 'price': '54.23', 'rating': 'Five'}, {'title': 'The Requiem Red', 'link': 'https://books.toscrape.com/catalogue/the-requiem-red_995/index.html', 'picture': 'https://books.toscrape.com/media/cache/68/33/68339b4c9bc034267e1da611ab3b34f8.jpg', 'price': '22.65', 'rating': 'One'}, {'title': 'The Dirty Little Secrets of Getting Your Dream Job', 'link': 'https://books.toscrape.com/catalogue/the-dirty-little-secrets-of-getting-your-dream-job_994/index.html', 'picture': 'https://books.toscrape.com/media/cache/92/27/92274a95b7c251fea59a2b8a78275ab4.jpg', 'price': '33.34', 'rating': 'Four'}, {'title': 'The Coming Woman: A Novel Based on the Life of the Infamous Feminist, Victoria Woodhull', 'link': 'https://books.toscrape.com/catalogue/the-coming-woman-a-novel-based-on-the-life-of-the-infamous-feminist-victoria-woodhull_993/index.html', 'picture': 'https://books.toscrape.com/media/cache/3d/54/3d54940e57e662c4dd1f3ff00c78cc64.jpg', 'price': '17.93', 'rating': 'Three'}, {'title': 'The Boys in the Boat: Nine Americans and Their Epic Quest for Gold at the 1936 Berlin Olympics', 'link': 'https://books.toscrape.com/catalogue/the-boys-in-the-boat-nine-americans-and-their-epic-quest-for-gold-at-the-1936-berlin-olympics_992/index.html', 'picture': 'https://books.toscrape.com/media/cache/66/88/66883b91f6804b2323c8369331cb7dd1.jpg', 'price': '22.60', 'rating': 'Four'}, {'title': 'The Black Maria', 'link': 'https://books.toscrape.com/catalogue/the-black-maria_991/index.html', 'picture': 'https://books.toscrape.com/media/cache/58/46/5846057e28022268153beff6d352b06c.jpg', 'price': '52.15', 'rating': 'One'}, {'title': 'Starving Hearts (Triangular Trade Trilogy, #1)', 'link': 'https://books.toscrape.com/catalogue/starving-hearts-triangular-trade-trilogy-1_990/index.html', 'picture': 'https://books.toscrape.com/media/cache/be/f4/bef44da28c98f905a3ebec0b87be8530.jpg', 'price': '13.99', 'rating': 'Two'}, {'title': \"Shakespeare's Sonnets\", 'link': 'https://books.toscrape.com/catalogue/shakespeares-sonnets_989/index.html', 'picture': 'https://books.toscrape.com/media/cache/10/48/1048f63d3b5061cd2f424d20b3f9b666.jpg', 'price': '20.66', 'rating': 'Four'}, {'title': 'Set Me Free', 'link': 'https://books.toscrape.com/catalogue/set-me-free_988/index.html', 'picture': 'https://books.toscrape.com/media/cache/5b/88/5b88c52633f53cacf162c15f4f823153.jpg', 'price': '17.46', 'rating': 'Five'}, {'title': \"Scott Pilgrim's Precious Little Life (Scott Pilgrim #1)\", 'link': 'https://books.toscrape.com/catalogue/scott-pilgrims-precious-little-life-scott-pilgrim-1_987/index.html', 'picture': 'https://books.toscrape.com/media/cache/94/b1/94b1b8b244bce9677c2f29ccc890d4d2.jpg', 'price': '52.29', 'rating': 'Five'}, {'title': 'Rip it Up and Start Again', 'link': 'https://books.toscrape.com/catalogue/rip-it-up-and-start-again_986/index.html', 'picture': 'https://books.toscrape.com/media/cache/81/c4/81c4a973364e17d01f217e1188253d5e.jpg', 'price': '35.02', 'rating': 'Five'}, {'title': 'Our Band Could Be Your Life: Scenes from the American Indie Underground, 1981-1991', 'link': 'https://books.toscrape.com/catalogue/our-band-could-be-your-life-scenes-from-the-american-indie-underground-1981-1991_985/index.html', 'picture': 'https://books.toscrape.com/media/cache/54/60/54607fe8945897cdcced0044103b10b6.jpg', 'price': '57.25', 'rating': 'Three'}, {'title': 'Olio', 'link': 'https://books.toscrape.com/catalogue/olio_984/index.html', 'picture': 'https://books.toscrape.com/media/cache/55/33/553310a7162dfbc2c6d19a84da0df9e1.jpg', 'price': '23.88', 'rating': 'One'}, {'title': 'Mesaerion: The Best Science Fiction Stories 1800-1849', 'link': 'https://books.toscrape.com/catalogue/mesaerion-the-best-science-fiction-stories-1800-1849_983/index.html', 'picture': 'https://books.toscrape.com/media/cache/09/a3/09a3aef48557576e1a85ba7efea8ecb7.jpg', 'price': '37.59', 'rating': 'One'}, {'title': 'Libertarianism for Beginners', 'link': 'https://books.toscrape.com/catalogue/libertarianism-for-beginners_982/index.html', 'picture': 'https://books.toscrape.com/media/cache/0b/bc/0bbcd0a6f4bcd81ccb1049a52736406e.jpg', 'price': '51.33', 'rating': 'Two'}, {'title': \"It's Only the Himalayas\", 'link': 'https://books.toscrape.com/catalogue/its-only-the-himalayas_981/index.html', 'picture': 'https://books.toscrape.com/media/cache/27/a5/27a53d0bb95bdd88288eaf66c9230d7e.jpg', 'price': '45.17', 'rating': 'Two'}]\n"
          ]
        }
      ]
    },
    {
      "cell_type": "code",
      "source": [
        "def find_books_on_page(cards):\n",
        "  books = []\n",
        "\n",
        "  for card in cards:\n",
        "    info = {\n",
        "        \"title\": card.find('h3').find('a').get('title'),\n",
        "        \"link\": url + card.find('h3').find('a').get('href'),\n",
        "        \"picture\": url + card.find('img').get('src'),\n",
        "        \"price\": card.find('p', attrs={\"class\": \"price_color\"}).get_text()[1:],\n",
        "        \"rating\": card.find('p', attrs={\"class\": \"star-rating\"}).get('class')[1]\n",
        "    }\n",
        "    books.append(info)\n",
        "  return books"
      ],
      "metadata": {
        "id": "lUwFJ8Vz6Qoi"
      },
      "execution_count": null,
      "outputs": []
    },
    {
      "cell_type": "code",
      "source": [
        "# основний код\n",
        "url = 'https://books.toscrape.com/'\n",
        "page = requests.get(url)\n",
        "soup = BeautifulSoup(page.content, \"html.parser\")\n",
        "cards = soup.find_all('article', attrs={\"class\": \"product_pod\"})\n",
        "books = find_books_on_page(cards)\n",
        "\n",
        "while True:\n",
        "  tag_next_link = soup.find('li', attrs={\"class\": \"next\"})\n",
        "  if tag_next_link:\n",
        "    next_link = tag_next_link.find('a').get('href')\n",
        "    print(url + next_link)\n",
        "    page = requests.get(url + next_link)\n",
        "    url = 'https://books.toscrape.com/catalogue/'\n",
        "    soup = BeautifulSoup(page.content, \"html.parser\")\n",
        "    cards = soup.find_all('article', attrs={\"class\": \"product_pod\"})\n",
        "    books = books + find_books_on_page(cards)\n",
        "  else:\n",
        "    break\n"
      ],
      "metadata": {
        "id": "uhjyTMfv7YL6"
      },
      "execution_count": null,
      "outputs": []
    },
    {
      "cell_type": "code",
      "source": [
        "print(len(books))"
      ],
      "metadata": {
        "colab": {
          "base_uri": "https://localhost:8080/"
        },
        "id": "VN3plJLQ-BS6",
        "outputId": "f32ec152-1ac0-431c-ef69-bb1a75153206"
      },
      "execution_count": null,
      "outputs": [
        {
          "output_type": "stream",
          "name": "stdout",
          "text": [
            "1000\n"
          ]
        }
      ]
    },
    {
      "cell_type": "code",
      "source": [
        "import csv\n",
        "\n",
        "with open(\"books.csv\", \"w\", newline=\"\") as fd:\n",
        "    fieldnames = [\"title\", \"link\", \"picture\", \"price\", \"rating\"]\n",
        "    writer = csv.DictWriter(fd, fieldnames=fieldnames)\n",
        "\n",
        "    writer.writeheader()\n",
        "    writer.writerows(books)\n",
        "\n"
      ],
      "metadata": {
        "id": "bNgzpXzz-9z1"
      },
      "execution_count": null,
      "outputs": []
    },
    {
      "cell_type": "code",
      "source": [
        "url = 'https://sport.ua/uk/rss/all'\n",
        "html = requests.get(url)\n",
        "content = html.content\n",
        "soup = BeautifulSoup(content, 'xml')\n",
        "items = soup.find_all('item')\n",
        "\n",
        "news = []\n",
        "\n",
        "for item in items:\n",
        "  info = {\n",
        "      \"title\": item.find('title').text,\n",
        "      \"link\": item.find('link').text,\n",
        "      \"picture\": item.find('enclosure').get('url'),\n",
        "  }\n",
        "  news.append(info)\n",
        "\n",
        "print(news)"
      ],
      "metadata": {
        "colab": {
          "base_uri": "https://localhost:8080/"
        },
        "id": "CZtaFV4IDfPO",
        "outputId": "58f65c29-bdfd-4df5-8107-68ab8a49b685"
      },
      "execution_count": null,
      "outputs": [
        {
          "output_type": "stream",
          "name": "stdout",
          "text": [
            "[{'title': 'Мальорка – Кадіс. Прогноз та анонс на матч чемпіонату Іспанії', 'link': 'http://sport.ua/uk/news/625899-malyorka-kadis-prognoz-ta-anons-na-match-chempionatu-ispanii', 'picture': 'https://pic.sport.ua/images/news/0/15/129/orig_625899.jpg'}, {'title': 'ЧС з хокею. Швеція – Німеччина, Латвія – Канада. Дивитися онлайн. LIVE', 'link': 'http://sport.ua/uk/news/625962-chs-z-hokeyu-shvetsiya-nimechchina-latviya-kanada-divitisya-onlayn-live', 'picture': 'https://pic.sport.ua/images/news/0/15/129/orig_625962.jpg'}, {'title': 'Кельн – Герта. Прогноз та анонс на матч чемпіонату Німеччини', 'link': 'http://sport.ua/uk/news/625898-keln-gerta-prognoz-ta-anons-na-match-chempionatu-nimechchini', 'picture': 'https://pic.sport.ua/images/news/0/15/129/orig_625898.jpg'}, {'title': 'Пеп ГВАРДІОЛА: «Через Євробачення не зіграємо у суботу. Втомився боротися»', 'link': 'http://sport.ua/uk/news/625975-pep-gvardiola-cherez-yevrobachennya-ne-zigraiemo-u-subotu-vtomivsya-borotisya', 'picture': 'https://pic.sport.ua/images/news/0/15/129/orig_625975.jpg'}, {'title': 'Реал Мадрид – Хетафе. Прогноз та анонс на матч чемпіонату Іспанії', 'link': 'http://sport.ua/uk/news/625925-real-madrid-hetafe-prognoz-ta-anons-na-match-chempionatu-ispanii', 'picture': 'https://pic.sport.ua/images/news/0/15/129/orig_625925.jpg'}, {'title': 'Динамо – Чорноморець. Прогноз і анонс на матч чемпіонату України', 'link': 'http://sport.ua/uk/news/625974-dinamo-chornomorets-prognoz-i-anons-na-match-chempionatu-ukraini', 'picture': 'https://pic.sport.ua/images/news/0/15/129/orig_625974.jpg'}, {'title': 'Журналіст: Дніпро-1 з наступного сезону повернеться на Дніпро-Арену', 'link': 'http://sport.ua/uk/news/625973-zhurnalist-dnipro-1-z-nastupnogo-sezonu-povernetsya-na-dnipro-arenu', 'picture': 'https://pic.sport.ua/images/news/0/15/129/orig_625973.jpg'}, {'title': 'Леся Цуренко – Бернарда Пера. Дивитися онлайн. LIVE трансляція', 'link': 'http://sport.ua/uk/news/625919-lesya-tsurenko-bernarda-pera-divitisya-onlayn-live-translyatsiya', 'picture': 'https://pic.sport.ua/images/news/0/15/129/orig_625919.jpg'}, {'title': 'Володимир ЗЕЛЕНСЬКИЙ: Вирішено не називати цифри втрат. Але ми всіх знаємо', 'link': 'http://sport.ua/uk/news/625972-volodimir-zelenskiy-virisheno-ne-nazivati-tsifri-vtrat-ale-mi-vsih-znaiemo', 'picture': 'https://pic.sport.ua/images/news/0/15/129/orig_625972.jpg'}, {'title': \"Джиро д'Італія. Баїс виграв гірський етап\", 'link': 'http://sport.ua/uk/news/625971-dzhiro-ditaliya-bais-vigrav-girskiy-etap', 'picture': 'https://pic.sport.ua/images/news/0/15/129/orig_625971.jpg'}, {'title': 'Аль-Айн із дублем Ярмоленка виграв матч останнього туру чемпіонату ОАЕ', 'link': 'http://sport.ua/uk/news/625969-al-ayn-iz-dublem-yarmolenka-vigrav-match-ostannyogo-turu-chempionatu-oae', 'picture': 'https://pic.sport.ua/images/news/0/15/129/orig_625969.jpg'}, {'title': \"План Усика: спершу Дюбуа, потім поєдинок проти Ф'юрі\", 'link': 'http://sport.ua/uk/news/625970-plan-usika-spershu-dyubua-potim-poiedinok-proti-fyuri', 'picture': 'https://pic.sport.ua/images/news/0/15/129/orig_625970.jpg'}, {'title': 'Мірча ЛУЧЕСКУ: «Я б хотів, щоб Інтер виграв Лігу чемпіонів»', 'link': 'http://sport.ua/uk/news/625967-mircha-luchesku-ya-b-hotiv-shchob-inter-vigrav-ligu-chempioniv', 'picture': 'https://pic.sport.ua/images/news/0/15/129/orig_625967.jpg'}, {'title': 'ВІДЕО. Ярмоленко відзначився другим дублем у матчі чемпіонату ОАЕ', 'link': 'http://sport.ua/uk/news/625966-video-yarmolenko-vidznachivsya-drugim-dublem-u-matchi-chempionatu-oae', 'picture': 'https://pic.sport.ua/images/news/0/15/129/orig_625966.jpg'}, {'title': 'Старт ЧС з хокею. США обіграли Фінляндію, битва Словаччини та Чехії', 'link': 'http://sport.ua/uk/news/625968-start-chs-z-hokeyu-ssha-obigrali-finlyandiyu-bitva-slovachchini-ta-chehii', 'picture': 'https://pic.sport.ua/images/news/0/15/129/orig_625968.jpg'}, {'title': 'Тренер ПСЖ: «Мессі дуже мотивований, він вийде в старті»', 'link': 'http://sport.ua/uk/news/625964-trener-pszh-messi-duzhe-motivovaniy-vin-viyde-v-starti', 'picture': 'https://pic.sport.ua/images/news/0/15/129/orig_625964.jpg'}, {'title': 'Стародубцева пробилася до півфіналу 60-тисячника ITF у США', 'link': 'http://sport.ua/uk/news/625959-starodubtseva-probilasya-do-pivfinalu-60-tisyachnika-itf-u-ssha', 'picture': 'https://pic.sport.ua/images/news/0/15/129/orig_625959.jpg'}, {'title': \"Віктор ПОСТОЛ: «Після шостого раунду Дерев'янченко зламає Мунгію»\", 'link': 'http://sport.ua/uk/news/625963-viktor-postol-pislya-shostogo-raundu-derevyanchenko-zlamaie-mungiyu', 'picture': 'https://pic.sport.ua/images/news/0/15/129/orig_625963.jpg'}, {'title': 'Де Брюйне – гравець тижня в Лізі чемпіонів', 'link': 'http://sport.ua/uk/news/625960-de-bryuyne-gravets-tizhnya-v-lizi-chempioniv', 'picture': 'https://pic.sport.ua/images/news/0/15/129/orig_625960.jpg'}, {'title': 'Є надія? Артета не підтвердив, що Зінченко вибув до кінця сезону', 'link': 'http://sport.ua/uk/news/625958-ye-nadiya-arteta-ne-pidtverdiv-shcho-zinchenko-vibuv-do-kintsya-sezonu', 'picture': 'https://pic.sport.ua/images/news/0/15/129/orig_625958.jpg'}]\n"
          ]
        }
      ]
    }
  ]
}